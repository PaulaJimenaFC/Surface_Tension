{
 "cells": [
  {
   "cell_type": "markdown",
   "id": "cognitive-administration",
   "metadata": {},
   "source": [
    "### Grafica del material suplementario"
   ]
  },
  {
   "cell_type": "code",
   "execution_count": null,
   "id": "rolled-disposition",
   "metadata": {},
   "outputs": [],
   "source": [
    "import matplotlib.pyplot as plt\n",
    "import glob\n",
    "\n",
    "# Obtener la lista de rutas de todas las imágenes PNG en la carpeta\n",
    "rutas_imagenes = glob.glob('*.png')\n",
    "\n",
    "# Crear una figura y un conjunto de subplots con una grilla de 4x2\n",
    "fig, axs = plt.subplots(2, 4, figsize=(20, 10))\n",
    "\n",
    "# Iterar sobre las rutas de las imágenes y cargarlas en los subplots\n",
    "for i, ruta_imagen in enumerate(rutas_imagenes):\n",
    "    imagen = plt.imread(ruta_imagen)\n",
    "    axs[i//4, i%4].imshow(imagen)\n",
    "    axs[i//4, i%4].axis('off')\n",
    "\n",
    "# Ajustar los espacios entre los subplots\n",
    "plt.tight_layout()\n",
    "\n",
    "# Guardar la figura en alta definición\n",
    "plt.savefig('grilla_imagenes.png', dpi=300)\n",
    "\n",
    "# Mostrar la figura\n",
    "plt.show()\n"
   ]
  },
  {
   "cell_type": "code",
   "execution_count": 2,
   "id": "pleased-palace",
   "metadata": {},
   "outputs": [
    {
     "data": {
      "text/plain": [
       "['Feature_importance_with_rf_data_set_number_3.png',\n",
       " 'Feature_importance_with_xgb_data_set_number_0.png',\n",
       " 'Feature_importance_with_xgb_data_set_number_1.png',\n",
       " 'Feature_importance_with_xgb_data_set_number_2.png',\n",
       " 'Feature_importance_with_xgb_data_set_number_3.png']"
      ]
     },
     "execution_count": 2,
     "metadata": {},
     "output_type": "execute_result"
    }
   ],
   "source": [
    "import matplotlib.pyplot as plt\n",
    "import glob\n",
    "\n",
    "# Obtener la lista de rutas de todas las imágenes PNG en la carpeta\n",
    "rutas_imagenes = glob.glob('*.png')\n",
    "rutas_imagenes"
   ]
  },
  {
   "cell_type": "code",
   "execution_count": null,
   "id": "hollow-australia",
   "metadata": {},
   "outputs": [],
   "source": []
  },
  {
   "cell_type": "code",
   "execution_count": null,
   "id": "official-fetish",
   "metadata": {},
   "outputs": [],
   "source": []
  }
 ],
 "metadata": {
  "kernelspec": {
   "display_name": "Python 3",
   "language": "python",
   "name": "python3"
  },
  "language_info": {
   "codemirror_mode": {
    "name": "ipython",
    "version": 3
   },
   "file_extension": ".py",
   "mimetype": "text/x-python",
   "name": "python",
   "nbconvert_exporter": "python",
   "pygments_lexer": "ipython3",
   "version": "3.8.5"
  }
 },
 "nbformat": 4,
 "nbformat_minor": 5
}
